{
 "cells": [
  {
   "cell_type": "code",
   "execution_count": 1,
   "id": "a6b3aba4",
   "metadata": {},
   "outputs": [],
   "source": [
    "import turtle\n",
    "turtle.bgcolor(\"black\")\n",
    "turtle.color(\"pink\")\n",
    "turtle.pensize(10)\n",
    "for angle in range(0,360,30):\n",
    "    turtle.seth(angle)\n",
    "    turtle.circle(100)"
   ]
  },
  {
   "cell_type": "code",
   "execution_count": null,
   "id": "fcdfe2e0",
   "metadata": {},
   "outputs": [],
   "source": []
  }
 ],
 "metadata": {
  "kernelspec": {
   "display_name": "Python 3 (ipykernel)",
   "language": "python",
   "name": "python3"
  },
  "language_info": {
   "codemirror_mode": {
    "name": "ipython",
    "version": 3
   },
   "file_extension": ".py",
   "mimetype": "text/x-python",
   "name": "python",
   "nbconvert_exporter": "python",
   "pygments_lexer": "ipython3",
   "version": "3.9.7"
  }
 },
 "nbformat": 4,
 "nbformat_minor": 5
}
